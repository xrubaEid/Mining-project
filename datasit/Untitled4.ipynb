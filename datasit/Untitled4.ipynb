{
 "cells": [
  {
   "cell_type": "markdown",
   "id": "1e4ea9bf",
   "metadata": {},
   "source": [
    "Data Science Job Salaries\n",
    "\n",
    "The majority of information technology students are curious about knowing the salary levels in the field of data science. We will build a model for a data set of employees in the field of data science in different companies and study this data to reach results that help visualize the salaries of these employees and what are the factors affecting them.\n",
    "\n",
    "Ruba Albnhar-Rema ALsharef-Maryam Alrowayah"
   ]
  },
  {
   "cell_type": "code",
   "execution_count": null,
   "id": "c006cb9b",
   "metadata": {},
   "outputs": [],
   "source": []
  }
 ],
 "metadata": {
  "kernelspec": {
   "display_name": "R",
   "language": "R",
   "name": "ir"
  },
  "language_info": {
   "codemirror_mode": "r",
   "file_extension": ".r",
   "mimetype": "text/x-r-source",
   "name": "R",
   "pygments_lexer": "r",
   "version": "3.6.1"
  }
 },
 "nbformat": 4,
 "nbformat_minor": 5
}
