{
 "cells": [
  {
   "cell_type": "markdown",
   "id": "4ae11de2",
   "metadata": {},
   "source": [
    "Data Science Job Salaries\n",
    "\n",
    "The majority of information technology students are curious about knowing the salary levels in the field of data science. We will build a model for a data set of employees in the field of data science in different companies and study this data to reach results that help visualize the salaries of these employees and what are the factors affecting them.\n",
    "\n",
    "source:https://www.kaggle.com/datasets/ruchi798/data-science-job-salaries\n",
    "columns:12\n",
    "rows:607\n",
    "\n",
    "Work_year : The year the salary was paid.\n",
    "\n",
    "experience_level : The experience level in the job during the year with the following possible values: EN Entry-level / Junior MI Mid-level / Intermediate SE Senior-level / Expert EX Executive-level / Director\n",
    "\n",
    "employment_type : The type of employement for the role: PT Part-time FT Full-time CT Contract FL Freelance\n",
    "\n",
    "job_title : The role worked in during the year.\n",
    "\n",
    "salary: The total gross salary amount paid.\n",
    "\n",
    "salary_currency: The currency of the salary paid as an ISO 4217 currency code\n",
    "\n",
    "salary_in_usd : The salary in USD (FX rate divided by avg. USD rate for the respective year via fxdata.foorilla.com).\n",
    "\n",
    "employee_residence: Employee's primary country of residence in during the work year as an ISO 3166 country code.\n",
    "\n",
    "remote_ratio: The overall amount of work done remotely, possible values are as follows: 0 No remote work (less than 20%) 50 Partially remote 100 Fully remote (more than 80%)\n",
    "\n",
    "company_location: The country of the employer's main office or contracting branch as an ISO 3166 country code.\n",
    "\n",
    "company_size: The average number of people that worked for the company during the year: S less than 50 employees (small) M 50 to 250 employees (medium) L more than 250 employees (large)\n",
    "\n",
    "Ruba Albnhar-Rema ALsharef-Maryam Alrowayah"
   ]
  },
  {
   "cell_type": "code",
   "execution_count": null,
   "id": "012b2757",
   "metadata": {},
   "outputs": [],
   "source": []
  }
 ],
 "metadata": {
  "kernelspec": {
   "display_name": "R",
   "language": "R",
   "name": "ir"
  },
  "language_info": {
   "codemirror_mode": "r",
   "file_extension": ".r",
   "mimetype": "text/x-r-source",
   "name": "R",
   "pygments_lexer": "r",
   "version": "3.6.1"
  }
 },
 "nbformat": 4,
 "nbformat_minor": 5
}
